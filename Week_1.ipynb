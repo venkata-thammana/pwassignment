{
  "nbformat": 4,
  "nbformat_minor": 0,
  "metadata": {
    "colab": {
      "provenance": [],
      "authorship_tag": "ABX9TyOi0wHhnbjsvTGJtUfGEYC+"
    },
    "kernelspec": {
      "name": "python3",
      "display_name": "Python 3"
    },
    "language_info": {
      "name": "python"
    }
  },
  "cells": [
    {
      "cell_type": "code",
      "execution_count": 1,
      "metadata": {
        "id": "PSy-ZYYkvuGc"
      },
      "outputs": [],
      "source": [
        "st= 'Akshay'"
      ]
    },
    {
      "cell_type": "code",
      "source": [
        "ls =[1,2,3,'Hi']"
      ],
      "metadata": {
        "id": "xq-Bggxhv0bu"
      },
      "execution_count": 2,
      "outputs": []
    },
    {
      "cell_type": "code",
      "source": [
        "f = 3.54"
      ],
      "metadata": {
        "id": "PB8ri3whv4u5"
      },
      "execution_count": 4,
      "outputs": []
    },
    {
      "cell_type": "code",
      "source": [
        "tp = (1,2,34,55)"
      ],
      "metadata": {
        "id": "Z1kXaC1iv61Q"
      },
      "execution_count": 6,
      "outputs": []
    },
    {
      "cell_type": "markdown",
      "source": [
        "var1 is a string and var2 is also a string and var3 is a list and var 4 is a float "
      ],
      "metadata": {
        "id": "nUs4rkY4wOKC"
      }
    },
    {
      "cell_type": "markdown",
      "source": [
        "/ is a division operator which we use for divison \n",
        "\n",
        "% is to get the remainder ex- 5%2 gives 1\n",
        "\n",
        "// is to get the quotient ex - 5//2 gives 2\n",
        "\n",
        "** is to the get Exponentiation ex - 5\\**2 25"
      ],
      "metadata": {
        "id": "2SbnsADsxUwL"
      }
    },
    {
      "cell_type": "code",
      "source": [
        "ls1=[1,1.1,2 +1j,'str',False,True,23,454,'2323',34.343]\n",
        "for i in ls1:\n",
        "  print(i)\n",
        "  print(type(i))"
      ],
      "metadata": {
        "colab": {
          "base_uri": "https://localhost:8080/"
        },
        "id": "Iwin5ppNyMNf",
        "outputId": "a83a7f35-b055-4b9e-925f-ed43b77c5e5d"
      },
      "execution_count": 20,
      "outputs": [
        {
          "output_type": "stream",
          "name": "stdout",
          "text": [
            "1\n",
            "<class 'int'>\n",
            "1.1\n",
            "<class 'float'>\n",
            "(2+1j)\n",
            "<class 'complex'>\n",
            "str\n",
            "<class 'str'>\n",
            "False\n",
            "<class 'bool'>\n",
            "True\n",
            "<class 'bool'>\n",
            "23\n",
            "<class 'int'>\n",
            "454\n",
            "<class 'int'>\n",
            "2323\n",
            "<class 'str'>\n",
            "34.343\n",
            "<class 'float'>\n"
          ]
        }
      ]
    },
    {
      "cell_type": "code",
      "source": [
        "a = int(input('first number '))\n",
        "b = int(input('second number '))\n",
        "i=0\n",
        "c=a\n",
        "while(a%b==0) :\n",
        "  i+=1\n",
        "  a=a/b\n",
        "if i==0 :\n",
        "  print(a , 'is not divisible by ' , b)\n",
        "else :\n",
        "  print(c , 'is divisble by',b, i ,'times')\n"
      ],
      "metadata": {
        "colab": {
          "base_uri": "https://localhost:8080/"
        },
        "id": "OznWQXxt0EL1",
        "outputId": "13b533e9-7634-4ca5-9d8e-8e13fa85c635"
      },
      "execution_count": 24,
      "outputs": [
        {
          "output_type": "stream",
          "name": "stdout",
          "text": [
            "first number 64\n",
            "second number 2\n",
            "64 is divisble by 2 6 times\n"
          ]
        }
      ]
    },
    {
      "cell_type": "code",
      "source": [
        "ls=range(1,26)"
      ],
      "metadata": {
        "id": "pTTqfJRC2Y1J"
      },
      "execution_count": 26,
      "outputs": []
    },
    {
      "cell_type": "code",
      "source": [
        "for i in ls :\n",
        "  if ( i % 3 == 0):\n",
        "    print( i, 'is divisble by 3')\n",
        "  else :\n",
        "    print( i, 'is not divisble by 3')\n",
        "\n",
        "\n"
      ],
      "metadata": {
        "colab": {
          "base_uri": "https://localhost:8080/"
        },
        "id": "PfeXwyS43SUN",
        "outputId": "6b8cdbae-f05f-4fe3-a6d5-31cb3de8b0bb"
      },
      "execution_count": 29,
      "outputs": [
        {
          "output_type": "stream",
          "name": "stdout",
          "text": [
            "1 is not divisble by 3\n",
            "2 is not divisble by 3\n",
            "3 is divisble by 3\n",
            "4 is not divisble by 3\n",
            "5 is not divisble by 3\n",
            "6 is divisble by 3\n",
            "7 is not divisble by 3\n",
            "8 is not divisble by 3\n",
            "9 is divisble by 3\n",
            "10 is not divisble by 3\n",
            "11 is not divisble by 3\n",
            "12 is divisble by 3\n",
            "13 is not divisble by 3\n",
            "14 is not divisble by 3\n",
            "15 is divisble by 3\n",
            "16 is not divisble by 3\n",
            "17 is not divisble by 3\n",
            "18 is divisble by 3\n",
            "19 is not divisble by 3\n",
            "20 is not divisble by 3\n",
            "21 is divisble by 3\n",
            "22 is not divisble by 3\n",
            "23 is not divisble by 3\n",
            "24 is divisble by 3\n",
            "25 is not divisble by 3\n"
          ]
        }
      ]
    },
    {
      "cell_type": "markdown",
      "source": [
        "Mutable object are those object which we can edit are creating it, example if we create a list ls = [1,2,3] we can edit by ls[2] = 4 where as Immutable object are those which we cannot edit after creating example string example st= 'Nice' , we cannnot write st[2]= 'k' ,it will pop an error"
      ],
      "metadata": {
        "id": "h4tzdl7Q4DSJ"
      }
    },
    {
      "cell_type": "code",
      "source": [],
      "metadata": {
        "id": "E1lmJ4_A4u08"
      },
      "execution_count": null,
      "outputs": []
    }
  ]
}