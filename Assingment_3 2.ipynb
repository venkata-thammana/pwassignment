{
 "cells": [
  {
   "cell_type": "markdown",
   "id": "f7ab239f-6277-41a8-8396-31e929211521",
   "metadata": {},
   "source": [
    "1. the keyword def is used to define a function"
   ]
  },
  {
   "cell_type": "code",
   "execution_count": 10,
   "id": "7f287dab-2b27-48ad-829c-857d158002d2",
   "metadata": {},
   "outputs": [],
   "source": [
    "def odd_num():\n",
    "    l=[]\n",
    "    for i in range(25):\n",
    "        if( i%2!= 0):\n",
    "            l.append(i)\n",
    "    return l\n"
   ]
  },
  {
   "cell_type": "code",
   "execution_count": 11,
   "id": "4ab0728c-9842-46ed-86d8-225be6c771a4",
   "metadata": {},
   "outputs": [
    {
     "data": {
      "text/plain": [
       "[1, 3, 5, 7, 9, 11, 13, 15, 17, 19, 21, 23]"
      ]
     },
     "execution_count": 11,
     "metadata": {},
     "output_type": "execute_result"
    }
   ],
   "source": [
    "odd_num()"
   ]
  },
  {
   "cell_type": "markdown",
   "id": "1fdef569-7056-48ba-9633-c7272300d506",
   "metadata": {},
   "source": [
    "2.  *args and ** kwargs are used in function when there is no specfic number of aurguments which you have to take into a fuction, *args will store all the arugments in a list and ****kwargs** will store it a dictnory, given that arguments are passed as a key value pair"
   ]
  },
  {
   "cell_type": "code",
   "execution_count": 47,
   "id": "e36a3283-ec45-4013-81f2-ee40bd7f8f2f",
   "metadata": {},
   "outputs": [],
   "source": [
    "def details(*args,**kwargs):\n",
    "    for i in range(len(args)):\n",
    "        print(args[i])\n",
    "    \n",
    "    for i in kwargs.keys():\n",
    "        print(kwargs[i])"
   ]
  },
  {
   "cell_type": "code",
   "execution_count": 49,
   "id": "5dc66ace-a38b-4077-a3ac-a906e93e5499",
   "metadata": {},
   "outputs": [
    {
     "name": "stdout",
     "output_type": "stream",
     "text": [
      "1\n",
      "2\n",
      "34\n",
      "5\n",
      "2\n",
      "3\n"
     ]
    }
   ],
   "source": [
    "details(1,2,34,5,i = 2,a = 3)"
   ]
  },
  {
   "cell_type": "markdown",
   "id": "b8504f7b-072c-46c3-8fa6-48ae21d35ba8",
   "metadata": {},
   "source": [
    "3. An iterator is an object that allows you to iterate over collections of data, such as lists, tuples, dictionaries, and sets.In python for and while are examples of iterator"
   ]
  },
  {
   "cell_type": "code",
   "execution_count": 1,
   "id": "efb2950a-55c7-49cc-bbf5-c3ddfb357fc7",
   "metadata": {},
   "outputs": [
    {
     "name": "stdout",
     "output_type": "stream",
     "text": [
      "2\n",
      "4\n",
      "6\n",
      "8\n",
      "10\n"
     ]
    }
   ],
   "source": [
    "l=[2,4,6,8,10,12,14,16,18,20]\n",
    "for i in range(5):\n",
    "    print(l[i])\n"
   ]
  },
  {
   "cell_type": "markdown",
   "id": "c896ada1-21d5-4854-b7ae-ec7761330e17",
   "metadata": {},
   "source": [
    "4. Generator function is a function which contains yelid which generates values one by one instead of giving it as a list "
   ]
  },
  {
   "cell_type": "markdown",
   "id": "d8d99c32-7152-451d-8e9c-f0d97f0dcb18",
   "metadata": {},
   "source": [
    "yelid is a keyword that is similar to return but yeild doesn't terminate the function , if the function is called agian (using next() or in a loop)then the function continue from the yeild statment"
   ]
  },
  {
   "cell_type": "code",
   "execution_count": 6,
   "id": "d96664a4-91b6-4bae-8fb7-62e98a19c639",
   "metadata": {},
   "outputs": [],
   "source": [
    "def gena():\n",
    "    for i in range(100):\n",
    "        if i % 2 ==0:\n",
    "            yield(i)"
   ]
  },
  {
   "cell_type": "code",
   "execution_count": 10,
   "id": "a8f0dc43-9085-4494-b0d6-43448cb1c7bd",
   "metadata": {},
   "outputs": [
    {
     "name": "stdout",
     "output_type": "stream",
     "text": [
      "0\n",
      "2\n",
      "4\n",
      "6\n",
      "8\n",
      "10\n",
      "12\n",
      "14\n",
      "16\n",
      "18\n",
      "20\n",
      "22\n",
      "24\n",
      "26\n",
      "28\n",
      "30\n",
      "32\n",
      "34\n",
      "36\n",
      "38\n",
      "40\n",
      "42\n",
      "44\n",
      "46\n",
      "48\n",
      "50\n",
      "52\n",
      "54\n",
      "56\n",
      "58\n",
      "60\n",
      "62\n",
      "64\n",
      "66\n",
      "68\n",
      "70\n",
      "72\n",
      "74\n",
      "76\n",
      "78\n",
      "80\n",
      "82\n",
      "84\n",
      "86\n",
      "88\n",
      "90\n",
      "92\n",
      "94\n",
      "96\n",
      "98\n"
     ]
    }
   ],
   "source": [
    "for j in gena():\n",
    "    print(j)"
   ]
  },
  {
   "cell_type": "markdown",
   "id": "b2c597f4-578a-49b5-8bbd-6b4f93dc2c32",
   "metadata": {},
   "source": [
    "Question 5"
   ]
  },
  {
   "cell_type": "code",
   "execution_count": 27,
   "id": "d25a104d-94d0-4e98-bb01-2babb72ab08a",
   "metadata": {},
   "outputs": [],
   "source": [
    "def pm():\n",
    "    for i in range(1,1000):\n",
    "        c=0\n",
    "        for j in range(2,i):\n",
    "            if(i%j==0):\n",
    "                c=+1\n",
    "        if(c==0):\n",
    "            yield i"
   ]
  },
  {
   "cell_type": "code",
   "execution_count": 28,
   "id": "18ad169e-78af-4f73-8187-cfcb68a1de53",
   "metadata": {},
   "outputs": [
    {
     "name": "stdout",
     "output_type": "stream",
     "text": [
      "<generator object pm at 0x7f41b7586730>\n",
      "1\n",
      "1\n",
      "1\n",
      "1\n",
      "1\n",
      "1\n",
      "1\n",
      "1\n",
      "1\n",
      "1\n",
      "1\n",
      "1\n",
      "1\n",
      "1\n",
      "1\n",
      "1\n",
      "1\n",
      "1\n",
      "1\n",
      "1\n"
     ]
    }
   ],
   "source": [
    "print(pm())\n",
    "for s in range(20):\n",
    "    print(next(pm()))"
   ]
  },
  {
   "cell_type": "code",
   "execution_count": 32,
   "id": "b55c1dda-42c3-4533-b559-b17e750777e1",
   "metadata": {},
   "outputs": [
    {
     "name": "stdout",
     "output_type": "stream",
     "text": [
      "1\n",
      "2\n",
      "3\n",
      "5\n",
      "7\n",
      "11\n",
      "13\n",
      "17\n",
      "19\n",
      "23\n",
      "29\n",
      "31\n",
      "37\n",
      "41\n",
      "43\n",
      "47\n",
      "53\n",
      "59\n",
      "61\n",
      "67\n"
     ]
    }
   ],
   "source": [
    "x=pm()\n",
    "for i in range(20):\n",
    "    print(next(x))"
   ]
  },
  {
   "cell_type": "code",
   "execution_count": null,
   "id": "d81fb4f5-cb37-4ff6-9d35-13111d89189c",
   "metadata": {},
   "outputs": [],
   "source": []
  }
 ],
 "metadata": {
  "kernelspec": {
   "display_name": "Python 3 (ipykernel)",
   "language": "python",
   "name": "python3"
  },
  "language_info": {
   "codemirror_mode": {
    "name": "ipython",
    "version": 3
   },
   "file_extension": ".py",
   "mimetype": "text/x-python",
   "name": "python",
   "nbconvert_exporter": "python",
   "pygments_lexer": "ipython3",
   "version": "3.10.8"
  }
 },
 "nbformat": 4,
 "nbformat_minor": 5
}
