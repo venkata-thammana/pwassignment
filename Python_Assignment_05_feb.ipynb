{
  "nbformat": 4,
  "nbformat_minor": 0,
  "metadata": {
    "colab": {
      "provenance": [],
      "authorship_tag": "ABX9TyODGtL0ONGJV4ESrrSDOecP"
    },
    "kernelspec": {
      "name": "python3",
      "display_name": "Python 3"
    },
    "language_info": {
      "name": "python"
    }
  },
  "cells": [
    {
      "cell_type": "markdown",
      "source": [
        "1.In Object-Oriented Programming (OOP), a class is a blueprint for creating objects. It defines the structure and behavior that its instances (objects) will have. A class serves as a template, encapsulating the attributes (data) and methods (functions) that define the behavior of the objects created from it.\n",
        "\n",
        "An object, on the other hand, is a specific instance of a class. It represents a real-world entity or concept and encapsulates data and behavior according to the blueprint defined by the class. Objects are used to interact with one another in a program, allowing for modularity, reusability, and easier maintenance of code."
      ],
      "metadata": {
        "id": "2Lqsp9Ths47A"
      }
    },
    {
      "cell_type": "code",
      "source": [
        "#example\n",
        "class Dog:\n",
        "    def __init__(self, name, breed):\n",
        "        self.name = name\n",
        "        self.breed = breed\n",
        "\n",
        "    def bark(self):\n",
        "        print(f\"{self.name} is barking!\")\n",
        "\n",
        "dog1 = Dog(\"Fido\", \"Labrador\")\n",
        "dog2 = Dog(\"Max\", \"German Shepherd\")\n",
        "\n",
        "print(f\"{dog1.name} is a {dog1.breed}\")\n",
        "dog1.bark()\n",
        "\n",
        "print(f\"{dog2.name} is a {dog2.breed}\")\n",
        "dog2.bark()\n"
      ],
      "metadata": {
        "colab": {
          "base_uri": "https://localhost:8080/"
        },
        "id": "JsiqVFiVs9sn",
        "outputId": "d10e3d20-5c38-47f4-d4db-2d172fba2eb8"
      },
      "execution_count": null,
      "outputs": [
        {
          "output_type": "stream",
          "name": "stdout",
          "text": [
            "Fido is a Labrador\n",
            "Fido is barking!\n",
            "Max is a German Shepherd\n",
            "Max is barking!\n"
          ]
        }
      ]
    },
    {
      "cell_type": "markdown",
      "source": [
        "Here we can see two objects dog1 and dog2 created using a single class Dog , the values in both the objects are different as we can see ."
      ],
      "metadata": {
        "id": "aOzSSQw6tK0t"
      }
    },
    {
      "cell_type": "markdown",
      "source": [
        "2.The four pillars of Object-Oriented Programming (OOP) are:\n",
        "\n",
        "**Encapsulation**: Bundling data and methods together within a class to restrict access and ensure data integrity.\n",
        "\n",
        "**Inheritance**: Allows a class (subclass) to inherit attributes and methods from another class (superclass), promoting code reuse.\n",
        "\n",
        "**Polymorphism**: Enables objects to take on different forms or behaviors based on the context, achieved through method overriding and overloading.\n",
        "\n",
        "**Abstraction**: Focuses on essential attributes and behaviors while hiding unnecessary details, allowing for simplified and more manageable code."
      ],
      "metadata": {
        "id": "8FbXNu0mX77Q"
      }
    },
    {
      "cell_type": "markdown",
      "source": [
        "3.The __init__() function is a special method in Python classes, also known as a constructor. It is automatically called when a new instance of a class is created. The primary purpose of __init__() is to initialize the attributes (or properties) of the object to a desired initial state."
      ],
      "metadata": {
        "id": "1gceEkGRYI4w"
      }
    },
    {
      "cell_type": "code",
      "source": [
        "class Person:\n",
        "    def __init__(self, name, age):\n",
        "        self.name = name\n",
        "        self.age = age\n",
        "\n",
        "    def introduce(self):\n",
        "        print(f\"Hi, my name is {self.name} and I am {self.age} years old.\")\n",
        "\n",
        "person1 = Person(\"Venkat\", 30)\n",
        "\n",
        "person1.introduce()\n"
      ],
      "metadata": {
        "colab": {
          "base_uri": "https://localhost:8080/"
        },
        "id": "lDGG6WvZYUh4",
        "outputId": "d7a374cf-eacc-4132-8184-86e413be540f"
      },
      "execution_count": 2,
      "outputs": [
        {
          "output_type": "stream",
          "name": "stdout",
          "text": [
            "Hi, my name is Venkat and I am 30 years old.\n"
          ]
        }
      ]
    },
    {
      "cell_type": "markdown",
      "source": [
        "Here we can see when the class is called it actully the __init__ function which is excuted."
      ],
      "metadata": {
        "id": "491l5zzXYsoF"
      }
    },
    {
      "cell_type": "markdown",
      "source": [
        "4.In Object-Oriented Programming (OOP), self is a reference to the current instance of a class. It is a way for a class to refer to its own attributes and methods. self can be used for\n",
        "\n",
        "\n",
        "*   Distinguishes between instance and class variables.\n",
        "*  Accesses and modifies instance variables.\n",
        "*  Invokes methods within a class.\n",
        "*  Passes the instance itself as the first argument to methods.\n",
        "*  Creates new attributes for an instance.\n",
        "*  Allows external code to interact with class attributes and methods.\n",
        "\n"
      ],
      "metadata": {
        "id": "akbSSa93ZDH5"
      }
    },
    {
      "cell_type": "markdown",
      "source": [
        "5.Inheritance is a fundamental concept in Object-Oriented Programming (OOP) where a class (known as a subclass or child class) can inherit attributes and behaviors from another class (known as a superclass or parent class). This allows for code reuse and the creation of a hierarchical relationship between classes."
      ],
      "metadata": {
        "id": "lMQBL440Z6aL"
      }
    },
    {
      "cell_type": "code",
      "source": [
        "#simple inheritance\n",
        "class Animal:\n",
        "    def sound(self):\n",
        "        print(\"Some generic sound\")\n",
        "\n",
        "class Dog(Animal):\n",
        "    def sound(self):\n",
        "        print(\"Bark\")\n",
        "\n",
        "# Dog inherits from Animal\n",
        "my_dog = Dog()\n",
        "my_dog.sound()  # Output: \"Bark\"\n"
      ],
      "metadata": {
        "colab": {
          "base_uri": "https://localhost:8080/"
        },
        "id": "4LnfdlrDZt6W",
        "outputId": "55d70789-c2f2-4ba1-8b20-ca237fe046f8"
      },
      "execution_count": 3,
      "outputs": [
        {
          "output_type": "stream",
          "name": "stdout",
          "text": [
            "Bark\n"
          ]
        }
      ]
    },
    {
      "cell_type": "code",
      "source": [
        "#Multiple Inheritance\n",
        "class Fly:\n",
        "    def fly(self):\n",
        "        print(\"Can fly\")\n",
        "\n",
        "class Swim:\n",
        "    def swim(self):\n",
        "        print(\"Can swim\")\n",
        "\n",
        "class Duck(Fly, Swim):\n",
        "    pass\n",
        "\n",
        "# Duck inherits from both Fly and Swim\n",
        "my_duck = Duck()\n",
        "my_duck.fly()  # Output: \"Can fly\"\n",
        "my_duck.swim() # Output: \"Can swim\"\n"
      ],
      "metadata": {
        "colab": {
          "base_uri": "https://localhost:8080/"
        },
        "id": "irZVzCOqaAJh",
        "outputId": "f0e19025-9086-4486-ed24-cdeef8fdb465"
      },
      "execution_count": 4,
      "outputs": [
        {
          "output_type": "stream",
          "name": "stdout",
          "text": [
            "Can fly\n",
            "Can swim\n"
          ]
        }
      ]
    },
    {
      "cell_type": "code",
      "source": [
        "#Multilevel Inheritance\n",
        "class Animal:\n",
        "    def sound(self):\n",
        "        print(\"Some generic sound\")\n",
        "\n",
        "class Dog(Animal):\n",
        "    def sound(self):\n",
        "        print(\"Bark\")\n",
        "\n",
        "class Bulldog(Dog):\n",
        "    pass\n",
        "\n",
        "# Bulldog inherits from both Dog and Animal\n",
        "my_bulldog = Bulldog()\n",
        "my_bulldog.sound()  # Output: \"Bark\"\n"
      ],
      "metadata": {
        "colab": {
          "base_uri": "https://localhost:8080/"
        },
        "id": "dfGhW0wxaJGN",
        "outputId": "4881bfe9-cb99-4004-8e05-a86bd9c430d4"
      },
      "execution_count": 5,
      "outputs": [
        {
          "output_type": "stream",
          "name": "stdout",
          "text": [
            "Bark\n"
          ]
        }
      ]
    },
    {
      "cell_type": "code",
      "source": [
        "#Hierarchical Inheritance\n",
        "class Vehicle:\n",
        "    def start(self):\n",
        "        print(\"Engine started\")\n",
        "\n",
        "class Car(Vehicle):\n",
        "    pass\n",
        "\n",
        "class Motorcycle(Vehicle):\n",
        "    pass\n",
        "\n",
        "# Both Car and Motorcycle inherit from Vehicle\n",
        "my_car = Car()\n",
        "my_motorcycle = Motorcycle()\n",
        "my_car.start()        # Output: \"Engine started\"\n",
        "my_motorcycle.start() # Output: \"Engine started\"\n"
      ],
      "metadata": {
        "colab": {
          "base_uri": "https://localhost:8080/"
        },
        "id": "eSgEYlYwaOia",
        "outputId": "efd472ad-fbee-4eb5-b5db-33b105e1401d"
      },
      "execution_count": 6,
      "outputs": [
        {
          "output_type": "stream",
          "name": "stdout",
          "text": [
            "Engine started\n",
            "Engine started\n"
          ]
        }
      ]
    },
    {
      "cell_type": "code",
      "source": [],
      "metadata": {
        "id": "BdE4nyCVaTfo"
      },
      "execution_count": null,
      "outputs": []
    }
  ]
}