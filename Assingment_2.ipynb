{
 "cells": [
  {
   "cell_type": "markdown",
   "id": "38d584a5-6980-419b-9c46-4dce09433ecb",
   "metadata": {},
   "source": [
    "1. In python there are two types of comments single line and double line. We can create single line comment using # and for multiline comment we have to use \"\"\" triple qoutes\"\"\"."
   ]
  },
  {
   "cell_type": "code",
   "execution_count": 1,
   "id": "b31fa0c3-f3a3-419c-acb8-4ee45326af64",
   "metadata": {},
   "outputs": [
    {
     "data": {
      "text/plain": [
       "' THis \\nis \\na \\nmultiline comment '"
      ]
     },
     "execution_count": 1,
     "metadata": {},
     "output_type": "execute_result"
    }
   ],
   "source": [
    "#this is a single line comment\n",
    "\"\"\" THis \n",
    "is \n",
    "a \n",
    "multiline comment \"\"\""
   ]
  },
  {
   "cell_type": "markdown",
   "id": "b799242d-b098-41d8-a452-50bec21f61ce",
   "metadata": {},
   "source": [
    "2. Variable is the name give to the data objcet. We can simply declar and assign the variabl in one line using = operator"
   ]
  },
  {
   "cell_type": "code",
   "execution_count": 2,
   "id": "53fce846-b2ae-4ef3-a8fc-64a071bccd42",
   "metadata": {},
   "outputs": [],
   "source": [
    "a=2\n",
    "#here a is the variable and 2 was assigned to it"
   ]
  },
  {
   "cell_type": "markdown",
   "id": "7134caec-678f-4241-949b-393d432d7250",
   "metadata": {},
   "source": [
    "3. If the two datatypes are convertable we can simply use the line datatype(variable_name) where datatype is the target datatype. "
   ]
  },
  {
   "cell_type": "code",
   "execution_count": 3,
   "id": "163cdc06-3d0b-4de6-a4d7-4ffe71d57d75",
   "metadata": {},
   "outputs": [
    {
     "data": {
      "text/plain": [
       "int"
      ]
     },
     "execution_count": 3,
     "metadata": {},
     "output_type": "execute_result"
    }
   ],
   "source": [
    "a='123'\n",
    "b=int(a)\n",
    "type(b)"
   ]
  },
  {
   "cell_type": "markdown",
   "id": "3cef7729-cd19-4ff1-8810-8c21bba63f4c",
   "metadata": {},
   "source": [
    "4. In command line type python and hit enter , now >>> will appear which means now you can type and run python lines directly , you can also excute saved python files by navigating to the file loction"
   ]
  },
  {
   "cell_type": "code",
   "execution_count": 4,
   "id": "af0513ae-2a36-46c9-80ae-93a219b2fe39",
   "metadata": {},
   "outputs": [
    {
     "data": {
      "text/plain": [
       "[2, 3]"
      ]
     },
     "execution_count": 4,
     "metadata": {},
     "output_type": "execute_result"
    }
   ],
   "source": [
    "#5\n",
    "my_list = [1, 2, 3, 4, 5]\n",
    "my_list[1:3]"
   ]
  },
  {
   "cell_type": "markdown",
   "id": "5fc913a2-0d9b-424e-a6d1-eec227a79597",
   "metadata": {},
   "source": [
    "6. Complex number are those number which have an imaginary part along with real part. ex- 3 + 4i where 3 is real part and 4 is immaginary part and i is squaroot of -1. In python we can create imaginaroy number by using j instead of i."
   ]
  },
  {
   "cell_type": "code",
   "execution_count": 5,
   "id": "7413b98e-9c78-4a27-a8f7-f26d856c63af",
   "metadata": {},
   "outputs": [
    {
     "data": {
      "text/plain": [
       "complex"
      ]
     },
     "execution_count": 5,
     "metadata": {},
     "output_type": "execute_result"
    }
   ],
   "source": [
    "com = 3+4j\n",
    "type(com)"
   ]
  },
  {
   "cell_type": "code",
   "execution_count": 6,
   "id": "e5389e80-52ad-4408-81f4-b4ea5d7cc80b",
   "metadata": {},
   "outputs": [],
   "source": [
    "#7\n",
    "age=25\n"
   ]
  },
  {
   "cell_type": "code",
   "execution_count": 7,
   "id": "6888d590-fb3b-4627-a07d-d48530766d46",
   "metadata": {},
   "outputs": [],
   "source": [
    "#8\n",
    "price= 9.99\n",
    "# the type of price is float"
   ]
  },
  {
   "cell_type": "code",
   "execution_count": 8,
   "id": "c14182ff-1205-4e43-b292-97a9c7627b73",
   "metadata": {},
   "outputs": [
    {
     "name": "stdout",
     "output_type": "stream",
     "text": [
      "Aksay Thammana\n"
     ]
    }
   ],
   "source": [
    "name='Aksay Thammana'\n",
    "#we can use print() to print the name\n",
    "print(name)"
   ]
  },
  {
   "cell_type": "code",
   "execution_count": 9,
   "id": "d1feadc7-231f-4f89-8f5d-777eadb6d5ff",
   "metadata": {},
   "outputs": [
    {
     "data": {
      "text/plain": [
       "'World'"
      ]
     },
     "execution_count": 9,
     "metadata": {},
     "output_type": "execute_result"
    }
   ],
   "source": [
    "st = \"Hello,World\"\n",
    "st[6:]"
   ]
  },
  {
   "cell_type": "code",
   "execution_count": 10,
   "id": "e2809854-eba5-4f89-b773-2a43388faa83",
   "metadata": {},
   "outputs": [],
   "source": [
    "is_stundent= True"
   ]
  },
  {
   "cell_type": "code",
   "execution_count": null,
   "id": "58179085-070d-42b3-8b02-24f102628351",
   "metadata": {},
   "outputs": [],
   "source": []
  }
 ],
 "metadata": {
  "kernelspec": {
   "display_name": "Python 3 (ipykernel)",
   "language": "python",
   "name": "python3"
  },
  "language_info": {
   "codemirror_mode": {
    "name": "ipython",
    "version": 3
   },
   "file_extension": ".py",
   "mimetype": "text/x-python",
   "name": "python",
   "nbconvert_exporter": "python",
   "pygments_lexer": "ipython3",
   "version": "3.10.8"
  }
 },
 "nbformat": 4,
 "nbformat_minor": 5
}
