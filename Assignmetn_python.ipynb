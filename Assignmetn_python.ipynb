{
 "cells": [
  {
   "cell_type": "markdown",
   "id": "48213e18-9ad1-4ef5-a5be-732e2199bc5a",
   "metadata": {},
   "source": [
    "Question 1"
   ]
  },
  {
   "cell_type": "code",
   "execution_count": 1,
   "id": "c6d7db5b-da5c-4348-8d88-3ec59156148f",
   "metadata": {},
   "outputs": [],
   "source": [
    "x =[('Sachin',34357),('Ricky',27483),('Jack',25534),('Virat',24936)]"
   ]
  },
  {
   "cell_type": "code",
   "execution_count": 9,
   "id": "98598da4-c91b-4637-a1cd-a16e1a73f956",
   "metadata": {},
   "outputs": [],
   "source": [
    "x.sort(key= lambda x : x[1])"
   ]
  },
  {
   "cell_type": "code",
   "execution_count": 10,
   "id": "5d3ab1a5-058f-4803-8ba3-609f837a2c77",
   "metadata": {},
   "outputs": [
    {
     "data": {
      "text/plain": [
       "[('Virat', 24936), ('Jack', 25534), ('Ricky', 27483), ('Sachin', 34357)]"
      ]
     },
     "execution_count": 10,
     "metadata": {},
     "output_type": "execute_result"
    }
   ],
   "source": [
    "x"
   ]
  },
  {
   "cell_type": "markdown",
   "id": "0f6152f3-c45e-4fa9-9d6a-f714e7b25598",
   "metadata": {},
   "source": [
    "Question 2"
   ]
  },
  {
   "cell_type": "code",
   "execution_count": 11,
   "id": "a66c6b95-5d08-43d7-ac74-f17657dce314",
   "metadata": {},
   "outputs": [],
   "source": [
    "x =[1,2,3,4,5,6,7,8,9,10]"
   ]
  },
  {
   "cell_type": "code",
   "execution_count": 19,
   "id": "a72346c8-e5e3-450b-b229-095918376ac3",
   "metadata": {},
   "outputs": [
    {
     "data": {
      "text/plain": [
       "[1, 4, 9, 16, 25, 36, 49, 64, 81, 100]"
      ]
     },
     "execution_count": 19,
     "metadata": {},
     "output_type": "execute_result"
    }
   ],
   "source": [
    "list(map(lambda i : i**2 , x))"
   ]
  },
  {
   "cell_type": "markdown",
   "id": "0d7f16ae-8b04-46bc-b9bd-7e24d0233ee2",
   "metadata": {},
   "source": [
    "Question 3"
   ]
  },
  {
   "cell_type": "code",
   "execution_count": 21,
   "id": "c6c62613-3f86-4a23-b14c-ddebece22290",
   "metadata": {},
   "outputs": [],
   "source": [
    "y=tuple(map(lambda i : str(i),x))"
   ]
  },
  {
   "cell_type": "code",
   "execution_count": 22,
   "id": "7125a821-9998-4add-93ec-847a5c998364",
   "metadata": {},
   "outputs": [
    {
     "data": {
      "text/plain": [
       "('1', '2', '3', '4', '5', '6', '7', '8', '9', '10')"
      ]
     },
     "execution_count": 22,
     "metadata": {},
     "output_type": "execute_result"
    }
   ],
   "source": [
    "y"
   ]
  },
  {
   "cell_type": "markdown",
   "id": "48cd74b5-a72d-47d8-bd62-806f85a3d9fe",
   "metadata": {},
   "source": [
    "Question 4"
   ]
  },
  {
   "cell_type": "code",
   "execution_count": 1,
   "id": "71127318-8008-43c0-8c4a-9a73d5e0248c",
   "metadata": {},
   "outputs": [],
   "source": [
    "x=list(range(1,26))"
   ]
  },
  {
   "cell_type": "code",
   "execution_count": 2,
   "id": "651a82e6-d223-4703-a984-b3c365fa8fdf",
   "metadata": {},
   "outputs": [
    {
     "data": {
      "text/plain": [
       "[1,\n",
       " 2,\n",
       " 3,\n",
       " 4,\n",
       " 5,\n",
       " 6,\n",
       " 7,\n",
       " 8,\n",
       " 9,\n",
       " 10,\n",
       " 11,\n",
       " 12,\n",
       " 13,\n",
       " 14,\n",
       " 15,\n",
       " 16,\n",
       " 17,\n",
       " 18,\n",
       " 19,\n",
       " 20,\n",
       " 21,\n",
       " 22,\n",
       " 23,\n",
       " 24,\n",
       " 25]"
      ]
     },
     "execution_count": 2,
     "metadata": {},
     "output_type": "execute_result"
    }
   ],
   "source": [
    "x"
   ]
  },
  {
   "cell_type": "code",
   "execution_count": 3,
   "id": "aebc3d4d-590e-4107-8a41-78ca8019e014",
   "metadata": {},
   "outputs": [],
   "source": [
    "import functools"
   ]
  },
  {
   "cell_type": "code",
   "execution_count": 7,
   "id": "92991a72-95cc-4332-a145-583aa9309481",
   "metadata": {},
   "outputs": [
    {
     "data": {
      "text/plain": [
       "15511210043330985984000000"
      ]
     },
     "execution_count": 7,
     "metadata": {},
     "output_type": "execute_result"
    }
   ],
   "source": [
    "functools.reduce(lambda a,b:a*b,x)"
   ]
  },
  {
   "cell_type": "markdown",
   "id": "b245f195-ff1a-408d-bdd8-68c2330b08f4",
   "metadata": {},
   "source": [
    "Question 5"
   ]
  },
  {
   "cell_type": "code",
   "execution_count": 11,
   "id": "ddf5e3ed-449a-48a2-b28d-ff44600b93de",
   "metadata": {},
   "outputs": [
    {
     "data": {
      "text/plain": [
       "[6, 60, 90, 120]"
      ]
     },
     "execution_count": 11,
     "metadata": {},
     "output_type": "execute_result"
    }
   ],
   "source": [
    "x=[2,3,6,9,27,60,90,120,55,46]\n",
    "list(filter(lambda x : (x%2==0)&(x%3==0),x))"
   ]
  },
  {
   "cell_type": "markdown",
   "id": "8b85a3d9-d3fa-46f8-9485-5b4fcd24b9f3",
   "metadata": {},
   "source": [
    "Question 6"
   ]
  },
  {
   "cell_type": "code",
   "execution_count": 20,
   "id": "635d233c-f581-4f04-8b6e-c9de13318cb2",
   "metadata": {},
   "outputs": [
    {
     "data": {
      "text/plain": [
       "['php', 'aba', 'radar', 'level']"
      ]
     },
     "execution_count": 20,
     "metadata": {},
     "output_type": "execute_result"
    }
   ],
   "source": [
    "x= ['python','php','aba','radar','level']\n",
    "list(filter(lambda i : i.lower()==i[::-1].lower(),x))"
   ]
  },
  {
   "cell_type": "code",
   "execution_count": null,
   "id": "8d214291-8be6-4af2-8537-0fe78c6710a0",
   "metadata": {},
   "outputs": [],
   "source": []
  }
 ],
 "metadata": {
  "kernelspec": {
   "display_name": "Python 3 (ipykernel)",
   "language": "python",
   "name": "python3"
  },
  "language_info": {
   "codemirror_mode": {
    "name": "ipython",
    "version": 3
   },
   "file_extension": ".py",
   "mimetype": "text/x-python",
   "name": "python",
   "nbconvert_exporter": "python",
   "pygments_lexer": "ipython3",
   "version": "3.10.8"
  }
 },
 "nbformat": 4,
 "nbformat_minor": 5
}
